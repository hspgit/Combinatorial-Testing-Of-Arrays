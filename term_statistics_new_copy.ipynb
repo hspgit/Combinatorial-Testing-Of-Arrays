{
  "nbformat": 4,
  "nbformat_minor": 0,
  "metadata": {
    "colab": {
      "name": "term-statistics.ipynb",
      "provenance": [],
      "include_colab_link": true
    },
    "kernelspec": {
      "name": "python3",
      "display_name": "Python 3"
    },
    "language_info": {
      "name": "python"
    }
  },
  "cells": [
    {
      "cell_type": "markdown",
      "metadata": {
        "id": "view-in-github",
        "colab_type": "text"
      },
      "source": [
        "<a href=\"https://colab.research.google.com/github/hspgit/Combinatorial-Testing-Of-Arrays/blob/main/term_statistics_new_copy.ipynb\" target=\"_parent\"><img src=\"https://colab.research.google.com/assets/colab-badge.svg\" alt=\"Open In Colab\"/></a>"
      ]
    },
    {
      "cell_type": "markdown",
      "metadata": {
        "id": "2yYCQrU0J5C5"
      },
      "source": [
        "# Working with Terms and Documents\n",
        "\n",
        "This exercise starts off with term statistics computations and graphing. In the final section (for CS6200 students), you collect new documents to experiment with.\n",
        "\n",
        "Read through this Jupyter notebook and fill in the parts marked with `TODO`."
      ]
    },
    {
      "cell_type": "markdown",
      "metadata": {
        "id": "tA4bCPS1MmAx"
      },
      "source": [
        "## Sample Data\n",
        "\n",
        "Start by looking at some sample data. We donwload the counts of terms in documents for the first one million tokens of a newswire collection."
      ]
    },
    {
      "cell_type": "code",
      "metadata": {
        "id": "W-IMINS4IFUg",
        "outputId": "18a2e380-86ba-443f-a7bc-189d507341e0",
        "colab": {
          "base_uri": "https://localhost:8080/"
        }
      },
      "source": [
        "!wget -O ap201001.json.gz https://github.com/dasmiq/cs6200-documents/blob/main/ap201001.json.gz?raw=true\n",
        "!gunzip ap201001.json.gz"
      ],
      "execution_count": 1,
      "outputs": [
        {
          "output_type": "stream",
          "name": "stdout",
          "text": [
            "--2025-01-19 04:23:21--  https://github.com/dasmiq/cs6200-documents/blob/main/ap201001.json.gz?raw=true\n",
            "Resolving github.com (github.com)... 140.82.121.3\n",
            "Connecting to github.com (github.com)|140.82.121.3|:443... connected.\n",
            "HTTP request sent, awaiting response... 302 Found\n",
            "Location: https://github.com/dasmiq/cs6200-documents/raw/refs/heads/main/ap201001.json.gz [following]\n",
            "--2025-01-19 04:23:21--  https://github.com/dasmiq/cs6200-documents/raw/refs/heads/main/ap201001.json.gz\n",
            "Reusing existing connection to github.com:443.\n",
            "HTTP request sent, awaiting response... 302 Found\n",
            "Location: https://raw.githubusercontent.com/dasmiq/cs6200-documents/refs/heads/main/ap201001.json.gz [following]\n",
            "--2025-01-19 04:23:22--  https://raw.githubusercontent.com/dasmiq/cs6200-documents/refs/heads/main/ap201001.json.gz\n",
            "Resolving raw.githubusercontent.com (raw.githubusercontent.com)... 185.199.111.133, 185.199.108.133, 185.199.110.133, ...\n",
            "Connecting to raw.githubusercontent.com (raw.githubusercontent.com)|185.199.111.133|:443... connected.\n",
            "HTTP request sent, awaiting response... 200 OK\n",
            "Length: 2854711 (2.7M) [application/octet-stream]\n",
            "Saving to: ‘ap201001.json.gz’\n",
            "\n",
            "ap201001.json.gz    100%[===================>]   2.72M  --.-KB/s    in 0.04s   \n",
            "\n",
            "2025-01-19 04:23:22 (75.0 MB/s) - ‘ap201001.json.gz’ saved [2854711/2854711]\n",
            "\n"
          ]
        }
      ]
    },
    {
      "cell_type": "markdown",
      "metadata": {
        "id": "_SEFjGZvM4lY"
      },
      "source": [
        "We convert this file with one JSON record on each line to a list of dictionaries."
      ]
    },
    {
      "cell_type": "code",
      "metadata": {
        "id": "6CrLD5SOIMz1"
      },
      "source": [
        "import json\n",
        "rawfile = open('ap201001.json')\n",
        "terms = [json.loads(line) for line in rawfile]"
      ],
      "execution_count": 2,
      "outputs": []
    },
    {
      "cell_type": "markdown",
      "metadata": {
        "id": "Rg4P9XJJM_lZ"
      },
      "source": [
        "Here are the first ten records, showing the count of each term for each document and field. In this dataset, field only takes the values `body` or `title`."
      ]
    },
    {
      "cell_type": "code",
      "metadata": {
        "colab": {
          "base_uri": "https://localhost:8080/"
        },
        "id": "g8GdOuyzI0wm",
        "outputId": "6d76abd3-a140-49e1-d8b0-2a58106af1ee"
      },
      "source": [
        "terms[1:10]"
      ],
      "execution_count": 3,
      "outputs": [
        {
          "output_type": "execute_result",
          "data": {
            "text/plain": [
              "[{'id': 'APW_ENG_20100101.0001', 'field': 'body', 'term': 'about', 'count': 1},\n",
              " {'id': 'APW_ENG_20100101.0001', 'field': 'body', 'term': 'abuse', 'count': 1},\n",
              " {'id': 'APW_ENG_20100101.0001',\n",
              "  'field': 'body',\n",
              "  'term': 'academy',\n",
              "  'count': 1},\n",
              " {'id': 'APW_ENG_20100101.0001',\n",
              "  'field': 'body',\n",
              "  'term': 'accused',\n",
              "  'count': 2},\n",
              " {'id': 'APW_ENG_20100101.0001',\n",
              "  'field': 'body',\n",
              "  'term': 'actress',\n",
              "  'count': 1},\n",
              " {'id': 'APW_ENG_20100101.0001', 'field': 'body', 'term': 'ad', 'count': 1},\n",
              " {'id': 'APW_ENG_20100101.0001', 'field': 'body', 'term': 'after', 'count': 1},\n",
              " {'id': 'APW_ENG_20100101.0001',\n",
              "  'field': 'body',\n",
              "  'term': 'agenda',\n",
              "  'count': 1},\n",
              " {'id': 'APW_ENG_20100101.0001',\n",
              "  'field': 'body',\n",
              "  'term': 'agreed',\n",
              "  'count': 1}]"
            ]
          },
          "metadata": {},
          "execution_count": 3
        }
      ]
    },
    {
      "cell_type": "markdown",
      "metadata": {
        "id": "q-CjFLXH3BJg"
      },
      "source": [
        "Each record has four fields:\n",
        "* `id`, with the identifier for the document;\n",
        "* `field`, with the region of the document containing a given term;\n",
        "* `term`, with the lower-cased term; and\n",
        "* `count`, with the number of times each term occurred in that field and document."
      ]
    },
    {
      "cell_type": "markdown",
      "metadata": {
        "id": "2H5yBvEVNUPr"
      },
      "source": [
        "## Computing Term Statistics\n"
      ]
    },
    {
      "cell_type": "markdown",
      "metadata": {
        "id": "qhDt23kKv0Uy"
      },
      "source": [
        "If we look at the most frequent terms for a given document, we mostly see common function words, such as `the`, `and`, and `of`. Start exploring the dataset by computing some of these basic term statistics. You can make your life easier using data frame libraries such as `pandas`, core python libraries such as `collections`, or just simple list comprehensions.\n",
        "\n",
        "Feel free to define helper functions in your code before computing the statistics we're looking for."
      ]
    },
    {
      "cell_type": "code",
      "metadata": {
        "id": "2Zy5qR562nZ5",
        "outputId": "836e6d0e-b596-419d-e7db-3df4ab42d3df",
        "colab": {
          "base_uri": "https://localhost:8080/"
        }
      },
      "source": [
        "# TODO: Print the 10 terms from document APW_ENG_20100101.0001 with the highest count.\n",
        "# Initial comment to check git !\n",
        "# Filter for the specific document\n",
        "document_terms = [\n",
        "    term for term in terms if term['id'] == 'APW_ENG_20100101.0001'\n",
        "]\n",
        "\n",
        "# Create a dictionary to store term counts\n",
        "term_counts = {}\n",
        "for term_data in document_terms:\n",
        "  term = term_data['term']\n",
        "  count = term_data['count']\n",
        "  term_counts[term] = term_counts.get(term, 0) + count\n",
        "\n",
        "# Sort terms by count in descending order\n",
        "sorted_terms = sorted(term_counts.items(), key=lambda x: x[1], reverse=True)\n",
        "\n",
        "# Print the top 10 terms\n",
        "print(\"Top 10 terms in document APW_ENG_20100101.0001 by count:\")\n",
        "for term, count in sorted_terms[:10]:\n",
        "  print(f\"{term}: {count}\")"
      ],
      "execution_count": 4,
      "outputs": [
        {
          "output_type": "stream",
          "name": "stdout",
          "text": [
            "Top 10 terms in document APW_ENG_20100101.0001 by count:\n",
            "a: 16\n",
            "the: 11\n",
            "and: 10\n",
            "brooks: 10\n",
            "of: 10\n",
            "to: 10\n",
            "he: 9\n",
            "in: 9\n",
            "gomez: 8\n",
            "for: 6\n"
          ]
        }
      ]
    },
    {
      "cell_type": "code",
      "metadata": {
        "id": "U7OwCo0w5R1q",
        "outputId": "85cca212-7d62-4b98-9228-4c88154de8a3",
        "colab": {
          "base_uri": "https://localhost:8080/"
        }
      },
      "source": [
        "# TODO: Print the 10 terms with the highest total count in the corpus.\n",
        "# Create a dictionary to store term counts\n",
        "term_counts = {}\n",
        "for term_data in terms:\n",
        "  term = term_data['term']\n",
        "  count = term_data['count']\n",
        "  term_counts[term] = term_counts.get(term, 0) + count\n",
        "\n",
        "# Sort terms by count in descending order\n",
        "sorted_terms = sorted(term_counts.items(), key=lambda x: x[1], reverse=True)\n",
        "\n",
        "# Print the top 10 terms\n",
        "print(\"Top 10 terms in corpus by count:\")\n",
        "for term, count in sorted_terms[:10]:\n",
        "  print(f\"{term}: {count}\")"
      ],
      "execution_count": 5,
      "outputs": [
        {
          "output_type": "stream",
          "name": "stdout",
          "text": [
            "Top 10 terms in corpus by count:\n",
            "the: 62216\n",
            "to: 26931\n",
            "in: 25659\n",
            "a: 23383\n",
            "of: 22326\n",
            "and: 22125\n",
            "said: 10888\n",
            "for: 9716\n",
            "on: 9382\n",
            "that: 8942\n"
          ]
        }
      ]
    },
    {
      "cell_type": "markdown",
      "metadata": {
        "id": "dnNEUACW23Dd"
      },
      "source": [
        "Raw counts may not be the most informative statistic. One common improvement is to use *inverse document frequency*, the inverse of the proportion of documents that contain a given term."
      ]
    },
    {
      "cell_type": "code",
      "metadata": {
        "id": "uiUA502P2QkH",
        "colab": {
          "base_uri": "https://localhost:8080/"
        },
        "outputId": "e3211be7-efaf-4de7-a2a6-3f211934b828"
      },
      "source": [
        "# TODO: Compute the number of distinct documents in the collection.\n",
        "N = len({term_data['id'] for term_data in terms})\n",
        "print(f\"Number of distinct documents: {N}\")\n",
        "\n",
        "# TODO: Compute the number of distinct documents each term appears in\n",
        "# and store in a dictionary.\n",
        "from collections import defaultdict\n",
        "\n",
        "# Create defaultdict with set as default factory\n",
        "df = defaultdict(set)\n",
        "\n",
        "# Collect document IDs\n",
        "for term_data in terms:\n",
        "    df[term_data['term']].add(term_data['id'])\n",
        "\n",
        "# Convert to counts\n",
        "df = {term: len(docs) for term, docs in df.items()}\n",
        "\n",
        "# onyl printing first 10 keys\n",
        "print(dict(list(df.items())[:10]))"
      ],
      "execution_count": 6,
      "outputs": [
        {
          "output_type": "stream",
          "name": "stdout",
          "text": [
            "Number of distinct documents: 2778\n",
            "{'a': 2571, 'about': 1077, 'abuse': 26, 'academy': 20, 'accused': 201, 'actress': 23, 'ad': 16, 'after': 1484, 'agenda': 16, 'agreed': 163}\n"
          ]
        }
      ]
    },
    {
      "cell_type": "code",
      "metadata": {
        "id": "_XMPAKYNCq6Y",
        "colab": {
          "base_uri": "https://localhost:8080/"
        },
        "outputId": "2afe380a-c7ef-4e9a-bebc-6ae227835d63"
      },
      "source": [
        "# TODO: Print the relative document frequency of 'the',\n",
        "# i.e., the number of documents that contain 'the' divided by N.\n",
        "print(df.get('the') / N)"
      ],
      "execution_count": 7,
      "outputs": [
        {
          "output_type": "stream",
          "name": "stdout",
          "text": [
            "0.9704823614110871\n"
          ]
        }
      ]
    },
    {
      "cell_type": "markdown",
      "metadata": {
        "id": "ohFmwtc7Chy3"
      },
      "source": [
        "Empricially, we usually see better retrieval results if we rescale term frequency (within documents) and inverse document frequency (across documents) with the log function. Let the `tfidf` of term _t_ in document _d_ be:\n",
        "```\n",
        "tfidf(t, d) = log(count(t, d) + 1) * log(N / df(t))\n",
        "```\n",
        "\n",
        "Later in the course, we will show a probabilistic derivation of this quantity based on smoothing language models."
      ]
    },
    {
      "cell_type": "code",
      "metadata": {
        "id": "Fmyj4v_uHdyo",
        "colab": {
          "base_uri": "https://localhost:8080/"
        },
        "outputId": "40047a1f-098e-429e-c319-2a2a25030b8f"
      },
      "source": [
        "# TODO: Compute the tf-idf value for each term in each document.\n",
        "# Take the raw term data and add a tfidf field to each record.\n",
        "tfidf_terms = None\n",
        "from math import log\n",
        "\n",
        "tfidf_terms = terms.copy()\n",
        "total_terms_per_document = defaultdict(int)\n",
        "for term_data in terms:\n",
        "    total_terms_per_document[term_data['id']] += term_data['count']\n",
        "\n",
        "\n",
        "for tfidf_term in tfidf_terms:\n",
        "    tf = tfidf_term['count'] + 1\n",
        "    idf = N / df[tfidf_term['term']]\n",
        "    tfidf_term['tfidf'] = log(tf) * log(idf)\n",
        "\n",
        "print(len(tfidf_terms))\n",
        "for tfidf_term in tfidf_terms[:10]:\n",
        "    print(tfidf_term)"
      ],
      "execution_count": 8,
      "outputs": [
        {
          "output_type": "stream",
          "name": "stdout",
          "text": [
            "538301\n",
            "{'id': 'APW_ENG_20100101.0001', 'field': 'body', 'term': 'a', 'count': 16, 'tfidf': 0.21939360394288007}\n",
            "{'id': 'APW_ENG_20100101.0001', 'field': 'body', 'term': 'about', 'count': 1, 'tfidf': 0.6567928905987198}\n",
            "{'id': 'APW_ENG_20100101.0001', 'field': 'body', 'term': 'abuse', 'count': 1, 'tfidf': 3.2379607976016733}\n",
            "{'id': 'APW_ENG_20100101.0001', 'field': 'body', 'term': 'academy', 'count': 1, 'tfidf': 3.419817847796999}\n",
            "{'id': 'APW_ENG_20100101.0001', 'field': 'body', 'term': 'accused', 'count': 2, 'tfidf': 2.8851553947936432}\n",
            "{'id': 'APW_ENG_20100101.0001', 'field': 'body', 'term': 'actress', 'count': 1, 'tfidf': 3.3229422514900757}\n",
            "{'id': 'APW_ENG_20100101.0001', 'field': 'body', 'term': 'ad', 'count': 1, 'tfidf': 3.5744891712505766}\n",
            "{'id': 'APW_ENG_20100101.0001', 'field': 'body', 'term': 'after', 'count': 1, 'tfidf': 0.43459641976770297}\n",
            "{'id': 'APW_ENG_20100101.0001', 'field': 'body', 'term': 'agenda', 'count': 1, 'tfidf': 3.5744891712505766}\n",
            "{'id': 'APW_ENG_20100101.0001', 'field': 'body', 'term': 'agreed', 'count': 1, 'tfidf': 1.9655826367575198}\n"
          ]
        }
      ]
    },
    {
      "cell_type": "code",
      "source": [
        "# TODO: Print the 20 term-document pairs with the highest tf-idf values.\n",
        "top_20_tfidf = sorted(tfidf_terms, key=lambda x: x['tfidf'], reverse=True)[:20]\n",
        "print(\"\\nTop 20 term-document pairs by TF-IDF:\")\n",
        "print(\"---------------------------------------\")\n",
        "for tfidf_term in top_20_tfidf:\n",
        "  print(f\"Term: {tfidf_term['term']:<20} Doc: {tfidf_term['id']:<40} TF-IDF: {tfidf_term['tfidf']:.4f}\")"
      ],
      "metadata": {
        "colab": {
          "base_uri": "https://localhost:8080/"
        },
        "id": "qoXDUFC__9Z5",
        "outputId": "26f2929e-043b-4f1a-e287-59645fceec5c"
      },
      "execution_count": 9,
      "outputs": [
        {
          "output_type": "stream",
          "name": "stdout",
          "text": [
            "\n",
            "Top 20 term-document pairs by TF-IDF:\n",
            "---------------------------------------\n",
            "Term: guarani              Doc: APW_ENG_20100103.0028                    TF-IDF: 23.2929\n",
            "Term: nomination           Doc: APW_ENG_20100105.0061                    TF-IDF: 22.5194\n",
            "Term: methane              Doc: APW_ENG_20100105.0446                    TF-IDF: 21.9852\n",
            "Term: kheire               Doc: APW_ENG_20100103.0015                    TF-IDF: 21.4734\n",
            "Term: greyhound            Doc: APW_ENG_20100105.0014                    TF-IDF: 21.4734\n",
            "Term: shakespeare          Doc: APW_ENG_20100107.0036                    TF-IDF: 21.3070\n",
            "Term: guild                Doc: APW_ENG_20100105.0061                    TF-IDF: 20.6675\n",
            "Term: shakespeare          Doc: APW_ENG_20100106.0428                    TF-IDF: 20.5021\n",
            "Term: elkhart              Doc: APW_ENG_20100102.0197                    TF-IDF: 20.3387\n",
            "Term: magna                Doc: APW_ENG_20100106.0075                    TF-IDF: 20.3387\n",
            "Term: sutton               Doc: APW_ENG_20100106.1325                    TF-IDF: 19.9209\n",
            "Term: tohti                Doc: APW_ENG_20100104.0043                    TF-IDF: 19.7040\n",
            "Term: greyhounds           Doc: APW_ENG_20100105.0014                    TF-IDF: 19.7040\n",
            "Term: krewe                Doc: APW_ENG_20100107.0018                    TF-IDF: 19.7040\n",
            "Term: minhas               Doc: APW_ENG_20100107.0928                    TF-IDF: 19.7040\n",
            "Term: golden               Doc: APW_ENG_20100105.0061                    TF-IDF: 19.3026\n",
            "Term: actors               Doc: APW_ENG_20100105.0061                    TF-IDF: 19.2808\n",
            "Term: pirate               Doc: APW_ENG_20100107.0018                    TF-IDF: 19.2415\n",
            "Term: punk                 Doc: APW_ENG_20100103.0016                    TF-IDF: 19.0971\n",
            "Term: shiites              Doc: APW_ENG_20100104.0108                    TF-IDF: 19.0141\n"
          ]
        }
      ]
    },
    {
      "cell_type": "markdown",
      "metadata": {
        "id": "f61xitl1IApl"
      },
      "source": [
        "## Plotting Term Distributions\n",
        "\n",
        "Besides frequencies and tf-idf values within documents, it is often helpful to look at the distrubitions of word frequencies in the whole collection. In class, we talk about the Zipf distribution of word rank versus frequency and Heaps' Law relating the number of distinct words to the number of tokens.\n",
        "\n",
        "We might examine these distributions to see, for instance, if an unexpectedly large number of very rare terms occurs, which might indicate noise added to our data."
      ]
    },
    {
      "cell_type": "code",
      "metadata": {
        "id": "fsM5k1_5Jj7Y",
        "colab": {
          "base_uri": "https://localhost:8080/"
        },
        "outputId": "7a1e255a-5a9a-487b-c90a-5b5cb9ec3c78"
      },
      "source": [
        "# TODO: Compute a list of the distinct words in this collection and sort it in descending order of frequency.\n",
        "# Thus frequency[0] should contain the word \"the\" and the count 62216.\n",
        "frequency = sorted_terms.copy()\n",
        "print(frequency[:1])"
      ],
      "execution_count": 10,
      "outputs": [
        {
          "output_type": "stream",
          "name": "stdout",
          "text": [
            "[('the', 62216)]\n"
          ]
        }
      ]
    },
    {
      "cell_type": "code",
      "source": [
        "from google.colab import drive\n",
        "drive.mount('/content/drive')\n"
      ],
      "metadata": {
        "id": "bWa4Y9dRC-ox",
        "colab": {
          "base_uri": "https://localhost:8080/"
        },
        "outputId": "b9fd13db-bb3e-421a-a418-58dd4a26ff94"
      },
      "execution_count": 23,
      "outputs": [
        {
          "output_type": "stream",
          "name": "stdout",
          "text": [
            "Drive already mounted at /content/drive; to attempt to forcibly remount, call drive.mount(\"/content/drive\", force_remount=True).\n"
          ]
        }
      ]
    },
    {
      "cell_type": "code",
      "metadata": {
        "id": "hdtc14EULkxS",
        "colab": {
          "base_uri": "https://localhost:8080/",
          "height": 564
        },
        "outputId": "515cfb61-c6dc-44b3-faba-a9e59be91185"
      },
      "source": [
        "# TODO: Plot a graph of the log of the rank (starting at 1) on the x-axis,\n",
        "# against the log of the frequency on the y-axis. You may use the matplotlib\n",
        "# or other library.\n",
        "import matplotlib.pyplot as plt\n",
        "\n",
        "def plot_zipf_law(frequency_pairs):\n",
        "    # Extract frequencies and calculate ranks\n",
        "    frequencies = [pair[1] for pair in frequency_pairs]\n",
        "    ranks = list(range(1, len(frequencies) + 1))\n",
        "\n",
        "    # Calculate log values\n",
        "    log_frequencies = [log(freq) for freq in frequencies]\n",
        "    log_ranks = [log(rank) for rank in ranks]\n",
        "\n",
        "    # Create the plot\n",
        "    plt.figure(figsize=(10, 6))\n",
        "    plt.scatter(log_ranks, log_frequencies, alpha=0.5)\n",
        "\n",
        "    # Add labels and title\n",
        "    plt.xlabel('Log Rank')\n",
        "    plt.ylabel('Log Frequency')\n",
        "    plt.title(\"Zipf's Law Distribution\")\n",
        "\n",
        "    # Add grid for better readability\n",
        "    plt.grid(True, alpha=0.3)\n",
        "\n",
        "    # Display plot\n",
        "    plt.show()\n",
        "\n",
        "# Assuming frequency_pairs is your list of (word, frequency) tuples\n",
        "plot_zipf_law(frequency)\n"
      ],
      "execution_count": 25,
      "outputs": [
        {
          "output_type": "display_data",
          "data": {
            "text/plain": [
              "<Figure size 1000x600 with 1 Axes>"
            ],
            "image/png": "[encoded data removed]"
          },
          "metadata": {}
        }
      ]
    },
    {
      "cell_type": "code",
      "source": [
        "# TODO: Compute the number of tokens in the corpus.\n",
        "# Remember to count each occurrence of each word. For instance, the 62,216\n",
        "# instances of \"the\" will all count here.\n",
        "ntokens = sum(frequency[1] for frequency in frequency)\n",
        "print(ntokens)"
      ],
      "metadata": {
        "id": "-WdHjFCSC7WC",
        "colab": {
          "base_uri": "https://localhost:8080/"
        },
        "outputId": "d70c16ff-38e4-489b-90a0-6ba1d3372c7d"
      },
      "execution_count": 13,
      "outputs": [
        {
          "output_type": "stream",
          "name": "stdout",
          "text": [
            "1000000\n"
          ]
        }
      ]
    },
    {
      "cell_type": "code",
      "source": [
        "# TODO: Compute the proportion of tokens made up by the top 10 most\n",
        "# frequent words.\n",
        "top_10_ratio = sum(freq[1] for freq in frequency[:10]) / ntokens\n",
        "print(top_10_ratio)"
      ],
      "metadata": {
        "id": "V_7wOcqKAz9m",
        "colab": {
          "base_uri": "https://localhost:8080/"
        },
        "outputId": "090c27fb-8267-4f17-8ea3-45e8a43e632b"
      },
      "execution_count": 14,
      "outputs": [
        {
          "output_type": "stream",
          "name": "stdout",
          "text": [
            "0.221568\n"
          ]
        }
      ]
    },
    {
      "cell_type": "code",
      "source": [
        "# TODO: Compute the proportion of tokens made up by the words that occur\n",
        "# exactly once in this collection.\n",
        "single_token_ratio = sum(1 for freq in frequency if freq[1] == 1) / ntokens\n",
        "print(single_token_ratio)"
      ],
      "metadata": {
        "id": "uF-1VxcZBXMM",
        "colab": {
          "base_uri": "https://localhost:8080/"
        },
        "outputId": "e6214723-020a-4b9e-c656-dff039f7514d"
      },
      "execution_count": 15,
      "outputs": [
        {
          "output_type": "stream",
          "name": "stdout",
          "text": [
            "0.006641\n"
          ]
        }
      ]
    },
    {
      "cell_type": "markdown",
      "metadata": {
        "id": "GdiUXaXZMFqT"
      },
      "source": [
        "## Acquiring New Documents (for CS6200)\n",
        "\n",
        "For this assignment so far, you've worked with data that's already been extracted, tokenized, and counted. In this final section, you'll explore acquiring new data.\n",
        "\n",
        "One common way of acquiring data is through application programming interfaces (APIs) to various databases. The Library of Congress's [_Chronicling America_](https://chroniclingamerica.loc.gov/) site aggregates digitized US newspapers from the past two hundred years, such as the [_Seattle Star_](https://chroniclingamerica.loc.gov/lccn/sn87093407/1925-01-17/ed-1/seq-1/) from 100 years ago.\n",
        "\n",
        "You can use [the API](https://chroniclingamerica.loc.gov/about/api/) to retrieve JSON data listing all issues of the _Seattle Star_: https://chroniclingamerica.loc.gov/lccn/sn87093407.json\n",
        "\n",
        "Note the list in the `issues` field. For example, here is the record for the January 17, 1925, issue: https://chroniclingamerica.loc.gov/lccn/sn87093407/1925-01-17/ed-1.json\n",
        "\n",
        "In that issue record, you'll see records for each page, e.g.: https://chroniclingamerica.loc.gov/lccn/sn87093407/1925-01-17/ed-1/seq-1.json\n",
        "\n",
        "And inside that page record, you'll see links to data about that page in various data formats, such as JPEG, PDF, and plain text, which is what we want here: https://chroniclingamerica.loc.gov/lccn/sn87093407/1925-01-17/ed-1/seq-1/ocr.txt\n",
        "\n",
        "This plain text was transcribed from the old page images using optical character recognition (OCR) models, and so contains errors.\n",
        "\n",
        "Your task is to acquire and analyze the issues of the _Seattle Star_ from the month of January, 1925, i.e., the issues with a date field that starts with `1925-01`. This should be about the same amount of data as the million words from the Associated Press you analyzed in the last section."
      ]
    },
    {
      "cell_type": "markdown",
      "metadata": {
        "id": "EGPVnXv2O6AN"
      },
      "source": [
        "**TODO**: Write code that calls the _Chronicling America_ API to download and extract the text from the _Seattle Star_ from January 1925. You can use the `json` library from above and any other libraries you wish to fetch data from URLs. As you would when working with any production API, you may need to limit your rate of requests."
      ]
    },
    {
      "cell_type": "code",
      "metadata": {
        "id": "VeDDz1SaPLik"
      },
      "source": [
        "# TODO: Data acquisition code here.\n",
        "# !wget -o some_resp.json https://chroniclingamerica.loc.gov/lccn/sn87093407.json\n",
        "# import requests\n",
        "# import json\n",
        "# import os\n",
        "\n",
        "# def fetch_chronicle_data(lccn):\n",
        "#     \"\"\"\n",
        "#     Fetch newspaper data from Chronicling America API\n",
        "#     Args:\n",
        "#         lccn (str): Library of Congress Control Number\n",
        "#     Returns:\n",
        "#         dict: Parsed JSON response\n",
        "#     \"\"\"\n",
        "#     url = f\"https://chroniclingamerica.loc.gov/lccn/{lccn}.json\"\n",
        "#     temp_file = \"temp_response.json\"\n",
        "\n",
        "#     try:\n",
        "#         # Make HTTP request\n",
        "#         response = requests.get(url)\n",
        "#         response.raise_for_status()\n",
        "\n",
        "#         # Save and parse JSON\n",
        "#         with open(temp_file, 'w') as f:\n",
        "#             json.dump(response.json(), f)\n",
        "\n",
        "#         with open(temp_file, 'r') as f:\n",
        "#             data = json.load(f)\n",
        "\n",
        "#         # Cleanup temp file\n",
        "#         os.remove(temp_file)\n",
        "#         return data\n",
        "\n",
        "#     except requests.exceptions.RequestException as e:\n",
        "#         print(f\"Error fetching data: {e}\")\n",
        "#         return None\n",
        "#     except json.JSONDecodeError as e:\n",
        "#         print(f\"Error parsing JSON: {e}\")\n",
        "#         return None\n",
        "#     finally:\n",
        "#         if os.path.exists(temp_file):\n",
        "#           os.remove(temp_file)\n",
        "\n",
        "# # Usage\n",
        "# data = fetch_chronicle_data('sn87093407')\n",
        "# if data:\n",
        "#     print(data)\n",
        "\n"
      ],
      "execution_count": 16,
      "outputs": []
    },
    {
      "cell_type": "code",
      "source": [
        "import requests\n",
        "import json\n",
        "import os\n",
        "import time\n",
        "from datetime import datetime\n",
        "from typing import Dict\n",
        "\n",
        "def fetch_issues_for_month(lccn, year=1925, month=1):\n",
        "    \"\"\"\n",
        "    Fetch all newspaper issues for a specific month and year\n",
        "    \"\"\"\n",
        "    base_url = f\"https://chroniclingamerica.loc.gov/lccn/{lccn}.json\"\n",
        "    issues_data = []\n",
        "\n",
        "    try:\n",
        "        # Fetch main newspaper metadata\n",
        "        response = requests.get(base_url)\n",
        "        response.raise_for_status()\n",
        "        data = response.json()\n",
        "\n",
        "        # Filter issues for specified month/year\n",
        "        target_issues = [\n",
        "            issue for issue in data['issues']\n",
        "            if datetime.strptime(issue['date_issued'], '%Y-%m-%d').year == year\n",
        "            and datetime.strptime(issue['date_issued'], '%Y-%m-%d').month == month\n",
        "        ]\n",
        "\n",
        "        # Fetch each matching issue\n",
        "        for issue in target_issues:\n",
        "            print(f\"Fetching issue from {issue['date_issued']}...\")\n",
        "            response = requests.get(issue['url'])\n",
        "            response.raise_for_status()\n",
        "            issues_data.append(response.json())\n",
        "            time.sleep(5)  # Rate limiting\n",
        "\n",
        "        return issues_data\n",
        "\n",
        "    except requests.exceptions.RequestException as e:\n",
        "        print(f\"Error fetching data: {e}\")\n",
        "        return None\n",
        "    except json.JSONDecodeError as e:\n",
        "        print(f\"Error parsing JSON: {e}\")\n",
        "        return None\n",
        "\n",
        "# Usage\n",
        "january_1925_issues = fetch_issues_for_month('sn87093407', 1925, 1)\n",
        "if january_1925_issues:\n",
        "    print(f\"Found {len(january_1925_issues)} issues from January 1925\")\n",
        "    for issue in january_1925_issues:\n",
        "        print(f\"Issue date: {issue.get('date_issued', 'unknown')}\")\n",
        "\n",
        "print(january_1925_issues[0])\n",
        "\n",
        "def fetch_ocr_for_issues(issues_data: list) -> Dict[str, str]:\n",
        "    \"\"\"\n",
        "    Fetches OCR text for all pages of all issues and stores them in a dictionary.\n",
        "    Returns dict with format: {'YYYYMMDD_ed{edition}_p{page}': 'ocr_text'}\n",
        "    \"\"\"\n",
        "    ocr_texts = {}\n",
        "\n",
        "    for issue in issues_data:\n",
        "        date = issue['date_issued'].replace('-', '')\n",
        "        edition = issue['edition']\n",
        "\n",
        "        for page in issue['pages']:\n",
        "            # Convert JSON URL to OCR URL\n",
        "            ocr_url = page['url'].replace('.json', '/ocr.txt')\n",
        "\n",
        "            # Create unique key for this page\n",
        "            key = f\"{date}_ed{edition}_p{page['sequence']}\"\n",
        "\n",
        "            try:\n",
        "                # Fetch OCR text\n",
        "                response = requests.get(ocr_url)\n",
        "                response.raise_for_status()\n",
        "                ocr_texts[key] = response.text\n",
        "\n",
        "                # Be nice to the server\n",
        "                time.sleep(5)\n",
        "\n",
        "            except requests.exceptions.RequestException as e:\n",
        "                print(f\"Error fetching OCR for {key}: {e}\")\n",
        "                ocr_texts[key] = \"\"\n",
        "\n",
        "            print(f\"Processed {key}\")\n",
        "\n",
        "    return ocr_texts\n",
        "\n",
        "# Usage\n",
        "ocr_collection = fetch_ocr_for_issues(january_1925_issues)\n",
        "\n"
      ],
      "metadata": {
        "id": "j8qMArnKqFo8"
      },
      "execution_count": null,
      "outputs": []
    },
    {
      "cell_type": "code",
      "source": [
        "print(len(ocr_collection.keys()))"
      ],
      "metadata": {
        "id": "vPRiWRbZtLIC",
        "colab": {
          "base_uri": "https://localhost:8080/"
        },
        "outputId": "77329fd4-ad1d-44da-a6f7-fd8860d7f9be"
      },
      "execution_count": 18,
      "outputs": [
        {
          "output_type": "stream",
          "name": "stdout",
          "text": [
            "492\n"
          ]
        }
      ]
    },
    {
      "cell_type": "code",
      "source": [
        "# Zip the ocr text and store\n",
        "import gzip\n",
        "from pathlib import Path\n",
        "from typing import Optional\n",
        "\n",
        "def save_ocr_collection(ocr_data: Dict[str, str], compress: bool = True) -> bool:\n",
        "    \"\"\"Save OCR collection with optional compression\"\"\"\n",
        "    try:\n",
        "        data_dir = Path(\"data\").resolve()\n",
        "        data_dir.mkdir(exist_ok=True)\n",
        "\n",
        "        # Save both formats for comparison first time\n",
        "        json_path = data_dir / \"ocr_collection.json\"\n",
        "        zip_path = data_dir / \"ocr_collection.json.gz\"\n",
        "\n",
        "        # Save uncompressed for comparison\n",
        "        with open(json_path, 'w', encoding='utf-8') as f:\n",
        "            json.dump(ocr_data, f, ensure_ascii=False)\n",
        "        json_size = os.path.getsize(json_path)\n",
        "\n",
        "        # Save compressed\n",
        "        with gzip.open(zip_path, 'wt', encoding='utf-8') as f:\n",
        "            json.dump(ocr_data, f, ensure_ascii=False)\n",
        "        zip_size = os.path.getsize(zip_path)\n",
        "\n",
        "        # Show size comparison\n",
        "        print(f\"JSON size: {json_size/1024/1024:.2f}MB\")\n",
        "        print(f\"ZIP size: {zip_size/1024/1024:.2f}MB\")\n",
        "\n",
        "        # Remove uncompressed if compression requested\n",
        "        if compress:\n",
        "            json_path.unlink()\n",
        "            print(f\"Kept compressed file at: {zip_path}\")\n",
        "\n",
        "        return True\n",
        "\n",
        "    except Exception as e:\n",
        "        print(f\"Error saving: {e}\")\n",
        "        return False\n",
        "\n",
        "def load_ocr_collection() -> Optional[Dict[str, str]]:\n",
        "    \"\"\"Load OCR collection (handles both compressed and uncompressed)\"\"\"\n",
        "    try:\n",
        "        data_dir = Path(\"data\").resolve()\n",
        "        zip_path = data_dir / \"ocr_collection.json.gz\"\n",
        "        json_path = data_dir / \"ocr_collection.json\"\n",
        "\n",
        "        if zip_path.exists():\n",
        "            with gzip.open(zip_path, 'rt', encoding='utf-8') as f:\n",
        "                return json.load(f)\n",
        "        elif json_path.exists():\n",
        "            with open(json_path, 'r', encoding='utf-8') as f:\n",
        "                return json.load(f)\n",
        "        else:\n",
        "            print(\"No saved collection found\")\n",
        "            return None\n",
        "\n",
        "    except Exception as e:\n",
        "        print(f\"Error loading: {e}\")\n",
        "        return None\n",
        "\n",
        "# Usage:\n",
        "save_ocr_collection(ocr_collection, compress=True)  # Save compressed\n",
        "loaded_data = load_ocr_collection()  # Auto-detects format"
      ],
      "metadata": {
        "id": "Y-RPMudY_-ku",
        "outputId": "dd543311-9db8-4beb-e48d-4a8593fc4fb3",
        "colab": {
          "base_uri": "https://localhost:8080/"
        }
      },
      "execution_count": 26,
      "outputs": [
        {
          "output_type": "stream",
          "name": "stdout",
          "text": [
            "JSON size: 10.25MB\n",
            "ZIP size: 5.01MB\n",
            "Kept compressed file at: /content/data/ocr_collection.json.gz\n"
          ]
        }
      ]
    },
    {
      "cell_type": "code",
      "source": [
        "print(len(loaded_data.keys()))"
      ],
      "metadata": {
        "id": "j3M92MDUBRD7",
        "outputId": "b276015a-2c67-4705-b832-74098014da62",
        "colab": {
          "base_uri": "https://localhost:8080/"
        }
      },
      "execution_count": 28,
      "outputs": [
        {
          "output_type": "stream",
          "name": "stdout",
          "text": [
            "492\n"
          ]
        }
      ]
    },
    {
      "cell_type": "markdown",
      "metadata": {
        "id": "L1-oRTixPKbw"
      },
      "source": [
        "**TODO**: Write code to tokenize the text and count the resulting terms in each document. Since this data comes from automatically transcribing printed pages, some words may be hyphenated across line breaks. There is more than one right way to tokenize this data, so add comments to your code documenting your choices."
      ]
    },
    {
      "cell_type": "code",
      "metadata": {
        "id": "Ydsh0h74Pnlh"
      },
      "source": [
        "# TODO: Tokenization code here."
      ],
      "execution_count": null,
      "outputs": []
    },
    {
      "cell_type": "markdown",
      "metadata": {
        "id": "D-boFCotQ4Ur"
      },
      "source": [
        "**TODO**: Plot a graph of the log rank against log frequency for your collection, as you did for the sample collection above."
      ]
    },
    {
      "cell_type": "code",
      "source": [
        "# TODO: Plotting code here."
      ],
      "metadata": {
        "id": "-Z35asgBjiqO"
      },
      "execution_count": null,
      "outputs": []
    },
    {
      "cell_type": "markdown",
      "source": [
        "**TODO**: What do you observe about the differences between the distributions of the Associated Press and Seattle Star collections? In this text box, give some possible reasons for these differences."
      ],
      "metadata": {
        "id": "D5B-h__CjpvI"
      }
    }
  ]
}